{
 "cells": [
  {
   "cell_type": "code",
   "execution_count": null,
   "id": "f3e97aa1",
   "metadata": {},
   "outputs": [],
   "source": [
    "import json\n",
    "import requests\n",
    "import random\n",
    "import pandas as pd"
   ]
  },
  {
   "cell_type": "code",
   "execution_count": null,
   "id": "2d13b0dd",
   "metadata": {},
   "outputs": [],
   "source": [
    "# import of data containing the id of the film by which we will draw films\n",
    "title_akas = data=pd.read_csv('https://datasets.imdbws.com/title.akas.tsv.gz',sep='\\t',\n",
    "                              usecols = ['titleId', 'isOriginalTitle'])\n",
    "title_akas"
   ]
  },
  {
   "cell_type": "code",
   "execution_count": null,
   "id": "73994cd0",
   "metadata": {},
   "outputs": [],
   "source": [
    "# select only unique titles\n",
    "title_akas_sorted = title_akas[title_akas['isOriginalTitle'] == '1']\n",
    "title_akas_sorted"
   ]
  },
  {
   "cell_type": "code",
   "execution_count": null,
   "id": "b5c9df10",
   "metadata": {},
   "outputs": [],
   "source": [
    "# transfer id to the list\n",
    "Id_list = title_akas_sorted['titleId'].values.tolist()\n",
    "Id_list[:10]"
   ]
  },
  {
   "cell_type": "code",
   "execution_count": null,
   "id": "58fafdc7",
   "metadata": {},
   "outputs": [],
   "source": [
    "random.seed(10)"
   ]
  },
  {
   "cell_type": "code",
   "execution_count": null,
   "id": "1e21d23f",
   "metadata": {},
   "outputs": [],
   "source": [
    "films = pd.DataFrame()"
   ]
  },
  {
   "cell_type": "code",
   "execution_count": null,
   "id": "745a40f9",
   "metadata": {},
   "outputs": [],
   "source": [
    "# draw sample from Id_list\n",
    "for i in random.sample(Id_list,400):\n",
    "    url1 = f'http://www.omdbapi.com/?i={i}&apikey=d444d780'    \n",
    "    result = requests.get(url1).json()\n",
    "    df = pd.DataFrame.from_dict(result, orient = 'index').T\n",
    "    if df['Response'][0] == 'True' :\n",
    "        films = films.append(df)\n",
    "    else:\n",
    "        pass\n",
    "films     "
   ]
  }
 ],
 "metadata": {
  "kernelspec": {
   "display_name": "Python 3 (ipykernel)",
   "language": "python",
   "name": "python3"
  },
  "language_info": {
   "codemirror_mode": {
    "name": "ipython",
    "version": 3
   },
   "file_extension": ".py",
   "mimetype": "text/x-python",
   "name": "python",
   "nbconvert_exporter": "python",
   "pygments_lexer": "ipython3",
   "version": "3.9.7"
  }
 },
 "nbformat": 4,
 "nbformat_minor": 5
}
